{
 "cells": [
  {
   "cell_type": "markdown",
   "metadata": {},
   "source": [
    "I have imported economic data from worldbank and have chosen several indicators.\n",
    "I have chosen Australia as a country and have combined 5 indicators to create my dataset : Foreign_Investment/GDP/Account_Balance/Labour Force/Net_Migration\n",
    "\n",
    "There is a strong correlation between labor force and GDP, as well as between GDP and Account Balance between 1970 and 2016 in Australia.\n",
    "\n",
    "There is also a strong correlation between net migration and labour force.\n",
    "\n",
    "I decided to do a linear regression between foreign investment and GDP, as well as, between labour force and net migration as when I visualised the curves it clearly showed that there was a linear regression between both dataset (80-90% correlation)"
   ]
  }
 ],
 "metadata": {
  "kernelspec": {
   "display_name": "Python 2",
   "language": "python",
   "name": "python2"
  },
  "language_info": {
   "codemirror_mode": {
    "name": "ipython",
    "version": 2
   },
   "file_extension": ".py",
   "mimetype": "text/x-python",
   "name": "python",
   "nbconvert_exporter": "python",
   "pygments_lexer": "ipython2",
   "version": "2.7.13"
  }
 },
 "nbformat": 4,
 "nbformat_minor": 2
}
