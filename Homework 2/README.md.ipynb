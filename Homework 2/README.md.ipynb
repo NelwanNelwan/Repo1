{
 "cells": [
  {
   "cell_type": "markdown",
   "metadata": {},
   "source": [
    "I have imported economic data from worldbank and have chosen the indicators I would like to assess ans see whether they are correlated\n",
    "I have chosen Australia as a country\n",
    "I have combined 5 metrics to create my dataset : Foreign_Investment/GDP/Account_Balance/Labour Force/Net_Migration\n",
    "\n",
    "There is a strong correlation between labor force and GDP, as well as between GDP and Account Balance between 1970 and 2016\n",
    "\n",
    "There is also a strong correlation between net migration and labour force.\n",
    "\n",
    "I decided to do a linear regression between foreign investment and GDP, as well as, betwwen labour force and net migration"
   ]
  }
 ],
 "metadata": {
  "kernelspec": {
   "display_name": "Python 2",
   "language": "python",
   "name": "python2"
  },
  "language_info": {
   "codemirror_mode": {
    "name": "ipython",
    "version": 2
   },
   "file_extension": ".py",
   "mimetype": "text/x-python",
   "name": "python",
   "nbconvert_exporter": "python",
   "pygments_lexer": "ipython2",
   "version": "2.7.13"
  }
 },
 "nbformat": 4,
 "nbformat_minor": 2
}
